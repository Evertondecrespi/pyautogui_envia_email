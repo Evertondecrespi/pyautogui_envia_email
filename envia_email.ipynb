{
 "cells": [
  {
   "cell_type": "markdown",
   "metadata": {},
   "source": [
    "# Automação de Sistemas e Processos com Python"
   ]
  },
  {
   "attachments": {},
   "cell_type": "markdown",
   "metadata": {},
   "source": [
    "### Este projeto tem como objetivo enviar um e-mail automaticamente usando a biblioteca pyautogui do python"
   ]
  },
  {
   "cell_type": "code",
   "execution_count": 2,
   "metadata": {},
   "outputs": [],
   "source": [
    "import pyautogui\n",
    "import time"
   ]
  },
  {
   "cell_type": "code",
   "execution_count": 19,
   "metadata": {},
   "outputs": [],
   "source": [
    "# Este comando serve para aguardar 2 segundos a cada comando que é para dar tempo de abrir as funções do navegador\n",
    "pyautogui.PAUSE=3\n",
    "# Este comando serve para ir para tela inicial do windows e aceitar as teclas de atalho do mesmo\n",
    "pyautogui.hotkey('Crtl','d')\n",
    "# Pressiona o botão do teclado win \n",
    "pyautogui.press(\"win\")\n",
    "# Busca pelo navegador chrome\n",
    "pyautogui.write(\"chrome\")\n",
    "# pressiona a telca enter no teclado\n",
    "pyautogui.press(\"enter\")\n",
    "# Clica com o mouse na opção do meu perfil de usuario do chrome\n",
    "pyautogui.click(842, 568)\n",
    "# Abre uma aba nova do navegador\n",
    "pyautogui.hotkey('Crtl','t')\n",
    "# Clicla no menu do chrome\n",
    "pyautogui.click(1653, 48)\n",
    "# Clina em nova aba do Chrome\n",
    "pyautogui.click(1620, 72)\n",
    "# Digita na barra de endereços o gmail.com\n",
    "pyautogui.write(\"gmail.com\")\n",
    "# pressiona a telca enter no teclado\n",
    "pyautogui.press(\"enter\")\n",
    "# Clicla no escrever e-mail do gmail\n",
    "pyautogui.click(35, 165)\n",
    "# Inseri o texto do meu e-mail no endereço de destinatário do gmail\n",
    "pyautogui.write(\"evertoncrespi@gmail.com\")\n",
    "# Teclando enter ele vai completar o e-mail\n",
    "pyautogui.press(\"enter\")\n",
    "# Teclando tab ele irá para o campo Titulo\n",
    "pyautogui.hotkey('tab')\n",
    "# Insere o titulo do e-mail\n",
    "pyautogui.write(\"Titulo do e-mail\")\n",
    "# Teclando tab ele irá para o corpo do texto\n",
    "pyautogui.press('tab')\n",
    "# Insere o texto no corpo do email\n",
    "pyautogui.write(\"Corpo do do e-mail\")\n",
    "# Teclando enter ele vai dar um espaço\n",
    "pyautogui.press(\"enter\")\n",
    "# Insere mais um texto no corpo do email\n",
    "pyautogui.write('''Este projeto tem como objetivo treinar as funcionalidades do pyautogui''')\n",
    "# Teclando tab ele irá para o botão de enviar e-mail\n",
    "pyautogui.hotkey('tab')\n",
    "# Teclando enter ele vai enviar o e-mail\n",
    "pyautogui.press(\"enter\")"
   ]
  },
  {
   "cell_type": "code",
   "execution_count": null,
   "metadata": {},
   "outputs": [],
   "source": []
  },
  {
   "cell_type": "markdown",
   "metadata": {},
   "source": [
    "D"
   ]
  }
 ],
 "metadata": {
  "kernelspec": {
   "display_name": "Python 3",
   "language": "python",
   "name": "python3"
  },
  "language_info": {
   "codemirror_mode": {
    "name": "ipython",
    "version": 3
   },
   "file_extension": ".py",
   "mimetype": "text/x-python",
   "name": "python",
   "nbconvert_exporter": "python",
   "pygments_lexer": "ipython3",
   "version": "3.8.2"
  },
  "orig_nbformat": 4
 },
 "nbformat": 4,
 "nbformat_minor": 2
}
